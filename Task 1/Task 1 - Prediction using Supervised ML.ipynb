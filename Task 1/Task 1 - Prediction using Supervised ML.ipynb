{
 "cells": [
  {
   "cell_type": "markdown",
   "id": "a103dc25",
   "metadata": {},
   "source": [
    "# Author : Namya Shrinidhi Sharma\n",
    "\n",
    "# The Sparks Foundation - GRIP\n",
    "\n",
    "# Data Science and Business Analytics Internship  - #GRIPJUNE21\n",
    "\n",
    "## Task 1 : To predict the score of a student who studies for 9.25 hours per day\n",
    "\n",
    "### Modules used :\n",
    "              1. numpy and pandas - for data manipulation\n",
    "              2. matplotlib and seaborn - for data visualisation\n",
    "              3. sklearn for modelling"
   ]
  },
  {
   "cell_type": "code",
   "execution_count": 1,
   "id": "c2006189",
   "metadata": {},
   "outputs": [],
   "source": [
    "import pandas as pd\n",
    "import numpy as np\n",
    "import matplotlib.pyplot as plt\n",
    "import seaborn as sns\n",
    "from scipy import stats\n",
    "%matplotlib inline\n",
    "from sklearn.model_selection import train_test_split\n",
    "from sklearn.linear_model import LinearRegression\n",
    "from sklearn import metrics"
   ]
  },
  {
   "cell_type": "markdown",
   "id": "8c0e014c",
   "metadata": {},
   "source": [
    "## Importing the dataset "
   ]
  },
  {
   "cell_type": "code",
   "execution_count": 2,
   "id": "d0b279d2",
   "metadata": {},
   "outputs": [],
   "source": [
    "url = \"https://raw.githubusercontent.com/AdiPersonalWorks/Random/master/student_scores%20-%20student_scores.csv\"\n",
    "scores = pd.read_csv(url)"
   ]
  },
  {
   "cell_type": "code",
   "execution_count": 3,
   "id": "93333ea2",
   "metadata": {},
   "outputs": [
    {
     "name": "stdout",
     "output_type": "stream",
     "text": [
      "First 5 elements of the given dataset\n"
     ]
    },
    {
     "data": {
      "text/html": [
       "<div>\n",
       "<style scoped>\n",
       "    .dataframe tbody tr th:only-of-type {\n",
       "        vertical-align: middle;\n",
       "    }\n",
       "\n",
       "    .dataframe tbody tr th {\n",
       "        vertical-align: top;\n",
       "    }\n",
       "\n",
       "    .dataframe thead th {\n",
       "        text-align: right;\n",
       "    }\n",
       "</style>\n",
       "<table border=\"1\" class=\"dataframe\">\n",
       "  <thead>\n",
       "    <tr style=\"text-align: right;\">\n",
       "      <th></th>\n",
       "      <th>Hours</th>\n",
       "      <th>Scores</th>\n",
       "    </tr>\n",
       "  </thead>\n",
       "  <tbody>\n",
       "    <tr>\n",
       "      <th>0</th>\n",
       "      <td>2.5</td>\n",
       "      <td>21</td>\n",
       "    </tr>\n",
       "    <tr>\n",
       "      <th>1</th>\n",
       "      <td>5.1</td>\n",
       "      <td>47</td>\n",
       "    </tr>\n",
       "    <tr>\n",
       "      <th>2</th>\n",
       "      <td>3.2</td>\n",
       "      <td>27</td>\n",
       "    </tr>\n",
       "    <tr>\n",
       "      <th>3</th>\n",
       "      <td>8.5</td>\n",
       "      <td>75</td>\n",
       "    </tr>\n",
       "    <tr>\n",
       "      <th>4</th>\n",
       "      <td>3.5</td>\n",
       "      <td>30</td>\n",
       "    </tr>\n",
       "  </tbody>\n",
       "</table>\n",
       "</div>"
      ],
      "text/plain": [
       "   Hours  Scores\n",
       "0    2.5      21\n",
       "1    5.1      47\n",
       "2    3.2      27\n",
       "3    8.5      75\n",
       "4    3.5      30"
      ]
     },
     "execution_count": 3,
     "metadata": {},
     "output_type": "execute_result"
    }
   ],
   "source": [
    "print(\"First 5 elements of the given dataset\")\n",
    "scores.head()"
   ]
  },
  {
   "cell_type": "code",
   "execution_count": 4,
   "id": "e6c3e50e",
   "metadata": {},
   "outputs": [
    {
     "name": "stdout",
     "output_type": "stream",
     "text": [
      "Shape of the Dataset--> (25, 2)\n",
      "Columns names --> Index(['Hours', 'Scores'], dtype='object')\n",
      "Columns Datatype --> Hours     float64\n",
      "Scores      int64\n",
      "dtype: object\n"
     ]
    }
   ],
   "source": [
    "print('Shape of the Dataset-->',scores.shape)\n",
    "print ('Columns names -->',scores.columns)\n",
    "print ('Columns Datatype -->', scores.dtypes)"
   ]
  },
  {
   "cell_type": "markdown",
   "id": "e7b55e54",
   "metadata": {},
   "source": [
    "## Exploratory Data Analysis - EDA\n",
    " To achieve better results from the applied model in Machine Learning, the data has to be cleaned and formatted. We will have to check for the following :\n",
    "\n",
    " (i) Missing values (ii) Outliers\n",
    "\n",
    "##### Summary : "
   ]
  },
  {
   "cell_type": "code",
   "execution_count": 5,
   "id": "9b89b49c",
   "metadata": {},
   "outputs": [
    {
     "data": {
      "text/html": [
       "<div>\n",
       "<style scoped>\n",
       "    .dataframe tbody tr th:only-of-type {\n",
       "        vertical-align: middle;\n",
       "    }\n",
       "\n",
       "    .dataframe tbody tr th {\n",
       "        vertical-align: top;\n",
       "    }\n",
       "\n",
       "    .dataframe thead th {\n",
       "        text-align: right;\n",
       "    }\n",
       "</style>\n",
       "<table border=\"1\" class=\"dataframe\">\n",
       "  <thead>\n",
       "    <tr style=\"text-align: right;\">\n",
       "      <th></th>\n",
       "      <th>Hours</th>\n",
       "      <th>Scores</th>\n",
       "    </tr>\n",
       "  </thead>\n",
       "  <tbody>\n",
       "    <tr>\n",
       "      <th>count</th>\n",
       "      <td>25.000000</td>\n",
       "      <td>25.000000</td>\n",
       "    </tr>\n",
       "    <tr>\n",
       "      <th>mean</th>\n",
       "      <td>5.012000</td>\n",
       "      <td>51.480000</td>\n",
       "    </tr>\n",
       "    <tr>\n",
       "      <th>std</th>\n",
       "      <td>2.525094</td>\n",
       "      <td>25.286887</td>\n",
       "    </tr>\n",
       "    <tr>\n",
       "      <th>min</th>\n",
       "      <td>1.100000</td>\n",
       "      <td>17.000000</td>\n",
       "    </tr>\n",
       "    <tr>\n",
       "      <th>25%</th>\n",
       "      <td>2.700000</td>\n",
       "      <td>30.000000</td>\n",
       "    </tr>\n",
       "    <tr>\n",
       "      <th>50%</th>\n",
       "      <td>4.800000</td>\n",
       "      <td>47.000000</td>\n",
       "    </tr>\n",
       "    <tr>\n",
       "      <th>75%</th>\n",
       "      <td>7.400000</td>\n",
       "      <td>75.000000</td>\n",
       "    </tr>\n",
       "    <tr>\n",
       "      <th>max</th>\n",
       "      <td>9.200000</td>\n",
       "      <td>95.000000</td>\n",
       "    </tr>\n",
       "  </tbody>\n",
       "</table>\n",
       "</div>"
      ],
      "text/plain": [
       "           Hours     Scores\n",
       "count  25.000000  25.000000\n",
       "mean    5.012000  51.480000\n",
       "std     2.525094  25.286887\n",
       "min     1.100000  17.000000\n",
       "25%     2.700000  30.000000\n",
       "50%     4.800000  47.000000\n",
       "75%     7.400000  75.000000\n",
       "max     9.200000  95.000000"
      ]
     },
     "execution_count": 5,
     "metadata": {},
     "output_type": "execute_result"
    }
   ],
   "source": [
    "scores.describe()"
   ]
  },
  {
   "cell_type": "markdown",
   "id": "4d1babbd",
   "metadata": {},
   "source": [
    "##### Check for missing values : "
   ]
  },
  {
   "cell_type": "code",
   "execution_count": 6,
   "id": "e2c45226",
   "metadata": {},
   "outputs": [
    {
     "data": {
      "text/plain": [
       "Hours     0\n",
       "Scores    0\n",
       "dtype: int64"
      ]
     },
     "execution_count": 6,
     "metadata": {},
     "output_type": "execute_result"
    }
   ],
   "source": [
    "scores.isnull().sum()"
   ]
  },
  {
   "cell_type": "code",
   "execution_count": 7,
   "id": "03076ff8",
   "metadata": {},
   "outputs": [
    {
     "data": {
      "text/plain": [
       "<AxesSubplot:>"
      ]
     },
     "execution_count": 7,
     "metadata": {},
     "output_type": "execute_result"
    },
    {
     "data": {
      "image/png": "[encoded data removed]",
      "text/plain": [
       "<Figure size 432x288 with 1 Axes>"
      ]
     },
     "metadata": {
      "needs_background": "light"
     },
     "output_type": "display_data"
    }
   ],
   "source": [
    "sns.heatmap(scores.isnull(), cbar=False)"
   ]
  },
  {
   "cell_type": "markdown",
   "id": "664c684d",
   "metadata": {},
   "source": [
    "We can observe that there are no missing values in the dataset\n",
    "\n",
    "Let us now check for outliers."
   ]
  },
  {
   "cell_type": "code",
   "execution_count": 8,
   "id": "3190cf62",
   "metadata": {},
   "outputs": [
    {
     "data": {
      "image/png": "[encoded data removed]",
      "text/plain": [
       "<Figure size 432x288 with 1 Axes>"
      ]
     },
     "metadata": {
      "needs_background": "light"
     },
     "output_type": "display_data"
    }
   ],
   "source": [
    "scores.plot(x='Hours', y='Scores', style='o')  \n",
    "plt.title('Hours vs Percentage')  \n",
    "plt.xlabel('Hours Studied')  \n",
    "plt.ylabel('Percentage Score')  \n",
    "plt.show()"
   ]
  },
  {
   "cell_type": "markdown",
   "id": "0fc76702",
   "metadata": {},
   "source": [
    "We observe that there are no major outliers that may disrupt our analysis"
   ]
  },
  {
   "cell_type": "code",
   "execution_count": 9,
   "id": "7a9e7f96",
   "metadata": {},
   "outputs": [
    {
     "data": {
      "image/png": "[encoded data removed]",
      "text/plain": [
       "<Figure size 360x360 with 1 Axes>"
      ]
     },
     "metadata": {
      "needs_background": "light"
     },
     "output_type": "display_data"
    }
   ],
   "source": [
    "sns.displot(scores['Scores'], bins=10)\n",
    "plt.show()"
   ]
  },
  {
   "cell_type": "markdown",
   "id": "9b82ec90",
   "metadata": {},
   "source": [
    "All of the scores plotted are in the positive side. Hence, we can perform linear regression to predict the score of the student.\n",
    "Let us look at the correlation matrix to see how closely the scores and marks obtained are correlated."
   ]
  },
  {
   "cell_type": "code",
   "execution_count": 10,
   "id": "ae3da28f",
   "metadata": {},
   "outputs": [
    {
     "data": {
      "text/plain": [
       "<AxesSubplot:>"
      ]
     },
     "execution_count": 10,
     "metadata": {},
     "output_type": "execute_result"
    },
    {
     "data": {
      "image/png": "[encoded data removed]",
      "text/plain": [
       "<Figure size 432x288 with 2 Axes>"
      ]
     },
     "metadata": {
      "needs_background": "light"
     },
     "output_type": "display_data"
    }
   ],
   "source": [
    "sns.heatmap(scores.corr(),annot=True)"
   ]
  },
  {
   "cell_type": "markdown",
   "id": "72dc5363",
   "metadata": {},
   "source": [
    "We can see that the hours spent on studying are very closely correlated to the scores received by student."
   ]
  },
  {
   "cell_type": "markdown",
   "id": "690f19aa",
   "metadata": {},
   "source": [
    "## Preparing the training data for Linear Regression\n",
    "Independent variable --> Number of hours studied\n",
    "\n",
    "Dependent variable --> Scores obtained"
   ]
  },
  {
   "cell_type": "code",
   "execution_count": 11,
   "id": "0011aa40",
   "metadata": {},
   "outputs": [],
   "source": [
    "X = scores.iloc[:, :-1].values  \n",
    "y = scores.iloc[:, 1].values  "
   ]
  },
  {
   "cell_type": "code",
   "execution_count": 12,
   "id": "b161a0a4",
   "metadata": {},
   "outputs": [],
   "source": [
    "x_train, x_test, y_train, y_test = train_test_split(X, y, test_size = 0.3, random_state = 2)"
   ]
  },
  {
   "cell_type": "markdown",
   "id": "82e89e68",
   "metadata": {},
   "source": [
    "## Training the Algorithm\n",
    "We have split our data into training and testing sets. \n",
    "We can start the training on our set."
   ]
  },
  {
   "cell_type": "code",
   "execution_count": 13,
   "id": "62ea1cc2",
   "metadata": {},
   "outputs": [
    {
     "name": "stdout",
     "output_type": "stream",
     "text": [
      "Linear regression training is complete.\n"
     ]
    }
   ],
   "source": [
    "from sklearn.linear_model import LinearRegression  \n",
    "lr = LinearRegression()  \n",
    "lr.fit(x_train, y_train) \n",
    "print(\"Linear regression training is complete.\")"
   ]
  },
  {
   "cell_type": "markdown",
   "id": "ad0d2c9f",
   "metadata": {},
   "source": [
    "Now let us plot the regression line and plot for our test data"
   ]
  },
  {
   "cell_type": "code",
   "execution_count": 14,
   "id": "2d18f154",
   "metadata": {},
   "outputs": [
    {
     "data": {
      "image/png": "[encoded data removed]",
      "text/plain": [
       "<Figure size 432x288 with 1 Axes>"
      ]
     },
     "metadata": {
      "needs_background": "light"
     },
     "output_type": "display_data"
    }
   ],
   "source": [
    "line = lr.coef_*X+lr.intercept_\n",
    "plt.scatter(X, y)\n",
    "plt.plot(X, line);\n",
    "plt.show()"
   ]
  },
  {
   "cell_type": "markdown",
   "id": "30fd9f19",
   "metadata": {},
   "source": [
    "## Predictions\n",
    "Now that our dataset has been trained, let us see the predicted values "
   ]
  },
  {
   "cell_type": "code",
   "execution_count": 15,
   "id": "eda30f72",
   "metadata": {},
   "outputs": [
    {
     "name": "stdout",
     "output_type": "stream",
     "text": [
      "[[1.1]\n",
      " [2.5]\n",
      " [1.9]\n",
      " [9.2]\n",
      " [6.9]\n",
      " [2.7]\n",
      " [8.5]\n",
      " [2.5]]\n"
     ]
    }
   ],
   "source": [
    "print(x_test)\n",
    "predict = lr.predict(x_test) "
   ]
  },
  {
   "cell_type": "markdown",
   "id": "9cf94890",
   "metadata": {},
   "source": [
    "Let us compare the predicted values with the actual values to look at the accuracy of prediction of our model"
   ]
  },
  {
   "cell_type": "code",
   "execution_count": 16,
   "id": "fd43485b",
   "metadata": {},
   "outputs": [
    {
     "data": {
      "text/html": [
       "<div>\n",
       "<style scoped>\n",
       "    .dataframe tbody tr th:only-of-type {\n",
       "        vertical-align: middle;\n",
       "    }\n",
       "\n",
       "    .dataframe tbody tr th {\n",
       "        vertical-align: top;\n",
       "    }\n",
       "\n",
       "    .dataframe thead th {\n",
       "        text-align: right;\n",
       "    }\n",
       "</style>\n",
       "<table border=\"1\" class=\"dataframe\">\n",
       "  <thead>\n",
       "    <tr style=\"text-align: right;\">\n",
       "      <th></th>\n",
       "      <th>Actual scores</th>\n",
       "      <th>Predicted scores</th>\n",
       "    </tr>\n",
       "  </thead>\n",
       "  <tbody>\n",
       "    <tr>\n",
       "      <th>0</th>\n",
       "      <td>17</td>\n",
       "      <td>11.029003</td>\n",
       "    </tr>\n",
       "    <tr>\n",
       "      <th>1</th>\n",
       "      <td>21</td>\n",
       "      <td>25.628017</td>\n",
       "    </tr>\n",
       "    <tr>\n",
       "      <th>2</th>\n",
       "      <td>24</td>\n",
       "      <td>19.371297</td>\n",
       "    </tr>\n",
       "    <tr>\n",
       "      <th>3</th>\n",
       "      <td>88</td>\n",
       "      <td>95.494730</td>\n",
       "    </tr>\n",
       "    <tr>\n",
       "      <th>4</th>\n",
       "      <td>76</td>\n",
       "      <td>71.510634</td>\n",
       "    </tr>\n",
       "    <tr>\n",
       "      <th>5</th>\n",
       "      <td>25</td>\n",
       "      <td>27.713591</td>\n",
       "    </tr>\n",
       "    <tr>\n",
       "      <th>6</th>\n",
       "      <td>75</td>\n",
       "      <td>88.195222</td>\n",
       "    </tr>\n",
       "    <tr>\n",
       "      <th>7</th>\n",
       "      <td>30</td>\n",
       "      <td>25.628017</td>\n",
       "    </tr>\n",
       "  </tbody>\n",
       "</table>\n",
       "</div>"
      ],
      "text/plain": [
       "   Actual scores  Predicted scores\n",
       "0             17         11.029003\n",
       "1             21         25.628017\n",
       "2             24         19.371297\n",
       "3             88         95.494730\n",
       "4             76         71.510634\n",
       "5             25         27.713591\n",
       "6             75         88.195222\n",
       "7             30         25.628017"
      ]
     },
     "execution_count": 16,
     "metadata": {},
     "output_type": "execute_result"
    }
   ],
   "source": [
    "comp = pd.DataFrame({'Actual scores': y_test, 'Predicted scores': predict})  \n",
    "comp"
   ]
  },
  {
   "cell_type": "markdown",
   "id": "975e516b",
   "metadata": {},
   "source": [
    "Let us try adding our own inputs to see what the model predicts the score as.\n",
    "In this case, the sample input is number of hours.\n",
    "I am testing for hours = 9.25\n"
   ]
  },
  {
   "cell_type": "code",
   "execution_count": 17,
   "id": "942a3cd8",
   "metadata": {},
   "outputs": [
    {
     "name": "stdout",
     "output_type": "stream",
     "text": [
      "No of Hours = [[9.25]]\n",
      "Predicted Score = 96.01612299632009\n"
     ]
    }
   ],
   "source": [
    "sample=[[9.25]]\n",
    "lm = lr.predict(sample)\n",
    "print(\"No of Hours = {}\".format(sample))\n",
    "print(\"Predicted Score = {}\".format(lm[0]))"
   ]
  },
  {
   "cell_type": "markdown",
   "id": "4b685e31",
   "metadata": {},
   "source": [
    "## Evaluation of Train and Test scores"
   ]
  },
  {
   "cell_type": "code",
   "execution_count": 18,
   "id": "39694da2",
   "metadata": {},
   "outputs": [
    {
     "name": "stdout",
     "output_type": "stream",
     "text": [
      "Training Score :  0.9496868783142939\n",
      "Test Score :  0.9420584734434517\n"
     ]
    }
   ],
   "source": [
    "print('Training Score : ', lr.score(x_train, y_train))\n",
    "print('Test Score : ', lr.score(x_test, y_test))"
   ]
  },
  {
   "cell_type": "markdown",
   "id": "236b6279",
   "metadata": {},
   "source": [
    "Let us obtain the p-value to see the accuracy of our model"
   ]
  },
  {
   "cell_type": "code",
   "execution_count": 19,
   "id": "7fcd4307",
   "metadata": {},
   "outputs": [
    {
     "name": "stdout",
     "output_type": "stream",
     "text": [
      "t-statistic --> -0.06749127427810271\n",
      "P-value --> 0.9471450243074203\n"
     ]
    }
   ],
   "source": [
    "t_statistic, pvalues =stats.ttest_ind(y_test, lr.predict(x_test))\n",
    "print('t-statistic -->',t_statistic)\n",
    "print('P-value -->',pvalues)"
   ]
  },
  {
   "cell_type": "markdown",
   "id": "0ee3f1ec",
   "metadata": {},
   "source": [
    "P-value of 0.947 indicates that our model is 95% accurate "
   ]
  },
  {
   "cell_type": "markdown",
   "id": "8fa022a1",
   "metadata": {},
   "source": [
    "## Metrics"
   ]
  },
  {
   "cell_type": "code",
   "execution_count": 20,
   "id": "a3da0643",
   "metadata": {},
   "outputs": [
    {
     "name": "stdout",
     "output_type": "stream",
     "text": [
      "MAE - Mean absolute error :  5.936576124243742\n",
      "MSE - Mean squared error :  44.426665487233365\n",
      "RMSE - Root mean squared error :  6.665333111498132\n"
     ]
    }
   ],
   "source": [
    "print('MAE - Mean absolute error : ', metrics.mean_absolute_error(y_test, predict))\n",
    "print('MSE - Mean squared error : ', metrics.mean_squared_error(y_test, predict))\n",
    "print('RMSE - Root mean squared error : ', np.sqrt(metrics.mean_squared_error(y_test, predict)))"
   ]
  },
  {
   "cell_type": "markdown",
   "id": "2674dd3b",
   "metadata": {},
   "source": [
    "## Conclusion\n",
    "In summary, the performance of model on test sample are in acceptable range. The model can predict with an accuracy of 95%."
   ]
  },
  {
   "cell_type": "code",
   "execution_count": null,
   "id": "8ae15990",
   "metadata": {},
   "outputs": [],
   "source": []
  }
 ],
 "metadata": {
  "kernelspec": {
   "display_name": "Python 3",
   "language": "python",
   "name": "python3"
  },
  "language_info": {
   "codemirror_mode": {
    "name": "ipython",
    "version": 3
   },
   "file_extension": ".py",
   "mimetype": "text/x-python",
   "name": "python",
   "nbconvert_exporter": "python",
   "pygments_lexer": "ipython3",
   "version": "3.8.8"
  }
 },
 "nbformat": 4,
 "nbformat_minor": 5
}
